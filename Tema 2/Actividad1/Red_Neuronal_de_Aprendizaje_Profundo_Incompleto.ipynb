{
  "cells": [
    {
      "cell_type": "markdown",
      "metadata": {
        "id": "iS-uPSBjQ3Lk"
      },
      "source": [
        "# Red Neuronal de Aprendizaje Profundo\n",
        "\n",
        "Esta hoja Colaboratory está preparada para que puedas completar tu código del entrenamiento de una red neurnal con cualquier número de capas.\n",
        "\n",
        "¡Suerte y Ánimo!"
      ]
    },
    {
      "cell_type": "markdown",
      "metadata": {
        "id": "IpefANTJyfAg"
      },
      "source": [
        "## Función para mostrar el progreso y funciones de activación y derivadas"
      ]
    },
    {
      "cell_type": "code",
      "execution_count": 1,
      "metadata": {
        "id": "q3DqzlGqyaha"
      },
      "outputs": [],
      "source": [
        "from tqdm import tqdm  # Para mostrar una barra de progreso\n",
        "from IPython import display; # Para poder borrar la salida de las celdas, y presentar gráficos del progreso poco a poco\n",
        "import matplotlib.pyplot as plt # Para dibujar gráficas\n",
        "import numpy as np # Para el cálculo matemático sobre vectores y matrices\n",
        "\n",
        "\n",
        "def show_progress(loss_output, num_errors_data, max_iterations):\n",
        "  \"\"\"\n",
        "  Esta función simplemente muestra el progreso del entrenamiento de la Red en un gráfico.\n",
        "  También presenta el error log. actual, el mínimo en algún momento,\n",
        "  el porcentaje de errores actual, y el mínimo porcentaje de errore sen algún momento.\n",
        "\n",
        "  NO DEBES MODIFICAR NADA EN ESTA FUNCIÓN.\n",
        "\n",
        "  :param loss_output: lista con los valores de error log a mostrar en la gráfica\n",
        "  :param num_errors_data: lista con el número de errores de predicción a mostrar en la gráfica\n",
        "  :param max_iterations: Entero. Número máximo de iteraciones de entrenamiento. Se usara para fijar el rango del eje x de la gráfica\n",
        "  :return: None\n",
        "  \"\"\"\n",
        "  fig, ax1 = plt.subplots();\n",
        "  ax2 = plt.gca().twinx();\n",
        "  plt.title('Error log. y Número de errores');\n",
        "  plt.xlabel('Iteración');\n",
        "  ax1.set_ylabel('Log Error');\n",
        "  ax2.set_ylabel('Ratio errors');\n",
        "  ax1.set_yscale(\"log\");\n",
        "  ax1.set_xlim([0, max_iterations]);\n",
        "  ax2.set_xlim([0, max_iterations]);\n",
        "  ax2.set_ylim([0, max(num_errors_data)+0.05]);\n",
        "  fig = plt.gcf();\n",
        "  ax1.plot(loss_output, label='Error log.');\n",
        "  ax2.plot(num_errors_data, label='Ratio errors', color='orange');\n",
        "  lines_1, labels_1 = ax1.get_legend_handles_labels();\n",
        "  lines_2, labels_2 = ax2.get_legend_handles_labels();\n",
        "  lines = lines_1 + lines_2;\n",
        "  labels = labels_1 + labels_2;\n",
        "  ax1.legend(lines, labels, loc='upper right');\n",
        "\n",
        "  _ = display.clear_output(wait=True);\n",
        "  _ = display.display(fig);\n",
        "\n",
        "  display.display('Current Error log.: {:.5f} / Min Error log.: {:.5f}'.format(loss_output[-1], np.min(loss_output)));\n",
        "  display.display('Current Ratio of errors: {:.5f}% / Min Ratio of errors: {:.5f}%'.format(num_errors_data[-1]*100, np.min(num_errors_data)*100));\n",
        "  plt.close('all');\n",
        "  plt.clf();\n",
        "\n",
        "\n",
        "\n",
        "def sigmoid(Z):\n",
        "  \"\"\"\n",
        "  Función sigmoide.\n",
        "  \n",
        "  DEBES COMPLETAR ESTA FUNCIÓN\n",
        "\n",
        "  :param Z: ndarray con los valores a los que se le desea aplicar la sigmoide\n",
        "  :return: ndarray con los valores resultado\n",
        "  \"\"\"\n",
        "  ############################\n",
        "  # TODO - Inicio\n",
        "  #\n",
        "  # Escribe la fórmula de la función sigmoide, reemplazando los puntos suspensivos.\n",
        "  # Recuerda que no necesitas hacer nada especial para tratar con ndarray de valores. Numpy lo hace por ti.\n",
        "  # Por ello, basta con que escribas la función usando directamente Z, sin usar ningún bucle for,\n",
        "  # y usando la función np.exp para la exponencia.\n",
        "  ############################\n",
        "  result = 1. / (1 + np.exp(-Z))\n",
        "  ############################\n",
        "  # TODO - Fin\n",
        "  ############################\n",
        "  return result\n",
        "\n",
        "\n",
        "\n",
        "\n",
        "\n",
        "def protected_sigmoid(Z):\n",
        "  \"\"\"\n",
        "  Función sigmoide protegida. Esta función simplemente engloba la anterior y la\n",
        "  protege frente a valores de Z que pudieran producir un overflow en el \n",
        "  cálculo de la exponencial. Es decir, un valor demasiado alto (negativo) de Z\n",
        "  podría hacer que el cálculo de np.exp(-Z) no fuese representable en el\n",
        "  programa. Esta función simplemente evita ese caso.\n",
        "\n",
        "  NO DEBES MODIFICAR NADA EN ESTA FUNCIÓN.\n",
        "\n",
        "  :param Z: ndarray con los valores a los que se le desea aplicar la sigmoide\n",
        "  :return: ndarray con los valores resultado\n",
        "  \"\"\"\n",
        "  assert type(Z) == np.ndarray, 'La función protected_sigmoid sólo acepta arrays de numpy, no ' + str(type(Z))\n",
        "  aux = np.where(-Z > np.log(np.finfo(Z.dtype).max), np.nan, Z)\n",
        "  result = sigmoid(aux)\n",
        "  return np.where(-Z > np.log(np.finfo(Z.dtype).max), 0.0, result)\n",
        "\n",
        "\n",
        "\n",
        "\n",
        "def identity(Z):\n",
        "  \"\"\"\n",
        "  Función identidad\n",
        "\n",
        "  DEBES COMPLETAR ESTA FUNCIÓN\n",
        "\n",
        "  :param Z: ndarray con los valores a los que se le desea aplicar la identidad\n",
        "            (es decir, devolver el mismo Z)\n",
        "  :return: ndarray con los valores resultado\n",
        "  \"\"\"\n",
        "  ############################\n",
        "  # TODO - Inicio\n",
        "  #\n",
        "  # Escribe la fórmula de la función identidad, reemplazando los puntos suspensivos (simplemente Z)\n",
        "  ############################\n",
        "  return Z\n",
        "  ############################\n",
        "  # TODO - Fin\n",
        "  ############################\n",
        "\n",
        "\n",
        "\n",
        "\n",
        "\n",
        "def identity_prime(Z):\n",
        "  \"\"\"\n",
        "  Función derivada de la función identidad\n",
        "\n",
        "  DEBES COMPLETAR ESTA FUNCIÓN\n",
        "\n",
        "  :param Z: ndarray con los valores sobre los que se quiere calcular\n",
        "            la derivada de la función identidad\n",
        "  :return: ndarray con los valores resultado\n",
        "  \"\"\"\n",
        "  ############################\n",
        "  # TODO - Inicio\n",
        "  #\n",
        "  # Completa el código de la función reemplazando los puntos suspensivos.\n",
        "  #\n",
        "  # Como la derivada de la identidad es 1 en todos sus puntos, debieras\n",
        "  # devolver un vector con tantos unos como elemnetos haya en Z.\n",
        "  # Utiliza alguna función de numpy que genere un vector de unos, y pásale\n",
        "  # como argumento el número de elementos de Z.\n",
        "  # \n",
        "  # Por ejemplo. Si se deseasen tantos ceros como elementos en Z\n",
        "  # bastaría escribir return np.zeros(Z.shape)\n",
        "  ############################\n",
        "  return np.ones(Z.shape)\n",
        "  ############################\n",
        "  # TODO - Fin\n",
        "  ############################\n",
        "\n",
        "\n",
        "\n",
        "\n",
        "\n",
        "\n",
        "def sigmoid_prime(Z):\n",
        "  \"\"\"\n",
        "  Función derivada de la función sigmoide\n",
        "\n",
        "  DEBES COMPLETAR ESTA FUNCIÓN\n",
        "\n",
        "  :param Z: ndarray con los valores sobre los que se quiere calcular\n",
        "            la derivada de la función sigmoide\n",
        "  :return: ndarray con los valores resultado\n",
        "  \"\"\"\n",
        "  ############################\n",
        "  # TODO - Inicio\n",
        "  # \n",
        "  # Completa el código de la función reemplazando los puntos suspensivos.\n",
        "  #\n",
        "  # Recuerda que la derivada de   la función sigmoide en los puntos Z\n",
        "  # es igual a A * (1. - A), donde A son los valores de la función sigmoide\n",
        "  # en dichos puntos.\n",
        "  ############################\n",
        "  A = protected_sigmoid(Z)\n",
        "  return A * (1. - A)\n",
        "  ############################\n",
        "  # TODO - Fin\n",
        "  ############################\n",
        "\n",
        "\n",
        "\n",
        "\n",
        "\n",
        "\n",
        "def relu(Z):\n",
        "  \"\"\"\n",
        "  Función ReLU (lineal rectividada)\n",
        "\n",
        "  DEBES COMPLETAR ESTA FUNCIÓN\n",
        "\n",
        "  :param Z: ndarray con los valores sobre los que se quiere calcular\n",
        "            la función ReLU\n",
        "  :return: ndarray con los valores resultado\n",
        "  \"\"\"\n",
        "  ############################\n",
        "  # TODO - Inicio\n",
        "  # \n",
        "  # Completa el código de la función reemplazando los puntos suspensivos.\n",
        "  #  \n",
        "  # Recuerda que la función ReLU es simplemente la identidad (Z)\n",
        "  # para los valores positivos, y 0 en otro caso.\n",
        "  ############################\n",
        "  return np.where(Z > 0, Z, 0)\n",
        "  ############################\n",
        "  # TODO - Fin\n",
        "  ############################\n",
        "\n",
        "\n",
        "\n",
        "\n",
        "\n",
        "\n",
        "def relu_prime(Z):\n",
        "  \"\"\"\n",
        "  Función derivada de la ReLU\n",
        "\n",
        "  DEBES COMPLETAR ESTA FUNCIÓN\n",
        "\n",
        "  :param Z: ndarray con los valores sobre los que se quiere calcular\n",
        "            la derivada de la función ReLU\n",
        "  :return: ndarray con los valores resultado\n",
        "  \"\"\"\n",
        "  ############################\n",
        "  # TODO - Inicio\n",
        "  # \n",
        "  # Completa el código de la función reemplazando los puntos suspensivos.\n",
        "  #  \n",
        "  # Recuerda que la derivada de la función ReLU la calculamos como\n",
        "  # la derivada de la identidad (1) para los valores positivos, y 0 en otro caso.\n",
        "  ############################\n",
        "  return np.where(Z > 0, 1, 0)\n",
        "  ############################\n",
        "  # TODO - Fin\n",
        "  ############################\n",
        "\n"
      ]
    },
    {
      "cell_type": "markdown",
      "metadata": {
        "id": "dfvMwiijx0zm"
      },
      "source": [
        "## Código para el entrenamiento de una red neuronal con 2 capas\n",
        "\n",
        "Aunque el resto de la hoja está preparada para que programes una red neuronal con cualquier número de capas, te sugiero que primero resuelvas el caso de una red con sólo dos capas, que será más fácil de depurar. Mi consejo es que sólo pases a una red neuronal con cualquier número de capas, una vez estés convencida o convencido de que el código para una red con dos capas es correcto."
      ]
    },
    {
      "cell_type": "code",
      "execution_count": 2,
      "metadata": {
        "id": "vlnZZz5C3wyE"
      },
      "outputs": [],
      "source": [
        "def two_layers_network_prediction(X, W, b, g):\n",
        "  \"\"\"\n",
        "  Función de predicción (propagación hacia adelante) en una red con dos capas\n",
        "\n",
        "  DEBES COMPLETAR ESTA FUNCIÓN\n",
        "\n",
        "  :param X: ndarray con los valores de los atributos del conjunto de patrones\n",
        "  :param W: lista de matrices con los parámetros W de las neuronas de cada capa.\n",
        "            Por congruencia con el código para una red con más capas, utilizaremos\n",
        "            W[1] para la primera capa y W[2] para la segunda capa. W[0] no se utiliza.\n",
        "  :param b: lista de vectores fila con los parámetros b de las neuronas de cada capa.\n",
        "            Por congruencia con el código para una red con más capas, utilizaremos\n",
        "            b[1] para la primera capa y b[2] para la segunda capa b[0] no se utiliza.\n",
        "  :param g: lista de las funciones de activación de las neuronas por cada capa.\n",
        "            Por congruencia con el código para una red con más capas, utilizaremos\n",
        "            g[1] para la primera capa y g[2] para la segunda. g[0] no se utiliza\n",
        "  :return: (predictions, Z, A), donde\n",
        "            - predictions es un ndarray con los valores de la clase predicha (0 o 1) para los patrones en X\n",
        "            - Z es una lista con ndarray con los valores intermedios calculados por las neuronas de cada capa.\n",
        "              Por congruencia con el código para una red con más capas, utilizaremos\n",
        "              Z[1] para la primera capa y Z[2] para la segunda. Z[0] tendrá X\n",
        "            - A es una lista con ndarray con los valores de activación de las neuronas de cada capa.\n",
        "              Por congruencia con el código para una red con más capas, utilizaremos\n",
        "              A[1] es la activación de la primera capa y A[2] para la segunda. A[0] son los mismos patrones de entrada.\n",
        "  \"\"\"\n",
        "  # Obtener el número de ejemplos en el conjunto de patrones e inicializar variables\n",
        "  num_patterns = X.shape[1]\n",
        "  A = [None, None, None]\n",
        "  Z = [None, None, None]\n",
        "  A[0] = X\n",
        "  Z[0] = X\n",
        "  num_layers = 2\n",
        "\n",
        "  # Bucle para propagar la información hacia adelante por las dos capas\n",
        "  for i in range(1, num_layers + 1):\n",
        "    ############################\n",
        "    # TODO - Inicio\n",
        "    # \n",
        "    # Completa el código reemplazando los puntos suspensivos.\n",
        "    # Se han incluido algunas instrucciones assert para comprobar algunos errores típicos.\n",
        "    #  \n",
        "    # 1. Debes calcular la transformación lineal de las neuronas de cada capa\n",
        "    # y almacenarlo en la posición correspondiente de la variable Z. Recuerda que\n",
        "    # esta transformación se calcula como el producto de la matriz de\n",
        "    # parámetros W correspondiente, por la salida de las neuronas de la\n",
        "    # capa anterior, más sus escalares.\n",
        "    #\n",
        "    # 2. Debes calcular la salida de las neuronas de cada capa y almacenarlo en\n",
        "    # la posición correspondiente de la variable A. Recuerda que debes utilizar\n",
        "    # la lista de funciones de activación g.\n",
        "    ############################\n",
        "    Z[i] = np.dot(W[i].T , A[i-1]) + b[i]\n",
        "    assert Z[i].shape == (W[i].shape[1],A[i-1].shape[1]), \\\n",
        "       'Z['+str(i)+'].shape es ' + str(Z[i].shape) + ' y debería ser (' + str(W[i].shape[1]) + ',' + str(A[i-1].shape[1]) + ')'\n",
        "    A[i] = g[i](Z[i])\n",
        "    assert A[i].shape == Z[i].shape, \\\n",
        "       'A['+str(i)+'].shape es ' + str(A[i].shape) + ' y debería ser ' + str(Z[i].shape)\n",
        "    ############################\n",
        "    # TODO - Fin\n",
        "    ############################\n",
        "\n",
        "  return (np.round(A[num_layers]), Z, A)\n",
        "\n",
        "\n",
        "\n",
        "\n",
        "\n",
        "\n",
        "\n",
        "def two_layers_network_training_step(X, Y, alfa, W, b, g, g_prime):\n",
        "  \"\"\"\n",
        "  Función para una iteración del entrenamiento de una red con dos capas\n",
        "\n",
        "  DEBES COMPLETAR ESTA FUNCIÓN\n",
        "\n",
        "  :param X: ndarray con los valores de los atributos del conjunto de patrones\n",
        "  :param Y: ndarray vector fila con los valores de las clases del conjunto de patrones\n",
        "  :param alfa: Hyperparámetro velocidad de aprendizaje.\n",
        "  :param W: lista de matrices con los parámetros W de las neuronas de cada capa.\n",
        "            Por congruencia con el código para una red con más capas, utilizaremos\n",
        "            W[1] para la primera capa y W[2] para la segunda capa. W[0] no se utiliza.\n",
        "            LA FUNCIÓN ACTUALIZA ESTOS VALORES.\n",
        "  :param b: lista de vectores fila con los parámetros b de las neuronas de cada capa.\n",
        "            Por congruencia con el código para una red con más capas, utilizaremos\n",
        "            b[1] para la primera capa y b[2] para la segunda capa b[0] no se utiliza.\n",
        "            LA FUNCIÓN ACTUALIZA ESTOS VALORES.\n",
        "  :param g: lista de las funciones de activación de las neuronas por cada capa.\n",
        "            Por congruencia con el código para una red con más capas, utilizaremos\n",
        "            g[1] para la primera capa y g[2] para la segunda. g[0] no se utiliza\n",
        "  :param g_prime: lista de las funciones derivadas de las funciones \n",
        "            de activación de las neuronas por cada capa.\n",
        "            Por congruencia con el código para una red con más capas, utilizaremos\n",
        "            g_prime[1] para la primera capa y g_prime[2] para la segunda. g_prime[0] se asume que es la derivada de la función identidad\n",
        "  :return: (loss_output, ratio_errors), donde\n",
        "            - loss_output es el error log cometido antes de actualizar los parámetros\n",
        "            - ratio_errors es el porcentaje de patrones en los que la red cometió error en la predicción, antes de actualizar los parámetros\n",
        "  \"\"\"\n",
        "  \n",
        "  assert g[2] == protected_sigmoid, 'Esta función no admite una función de activación en la segunda capa diferente a protected_sigmoid'\n",
        "  assert g_prime[2] == sigmoid_prime, 'Esta función no admite una función derivada de la función de activación de la segunda capa diferente a la derivada de la sigmoide'\n",
        "  assert g_prime[0] == identity_prime, 'Esta función no admite una función derivada en g_prime[0] diferente a identity_prime'\n",
        "\n",
        "  # Inicialización de variables\n",
        "  num_layers = 2\n",
        "  num_patterns = X.shape[1]\n",
        "  dZ,dA = [None] * (num_layers + 1), [None] * (num_layers + 1)\n",
        "  dW,db = [None] * (num_layers + 1), [None] * (num_layers + 1)\n",
        "\n",
        "\n",
        "  # Esta constante es sólo para evitar errores al calcular el logaritmo de 0\n",
        "  epsilon = 1e-100\n",
        "\n",
        "  # FORWARD PROPAGATION\n",
        "  Y_pred, Z, A = two_layers_network_prediction(X, W, b, g)\n",
        "\n",
        "  # Cálculo del error\n",
        "  ratio_errors = np.sum(np.abs(Y - Y_pred)) / Y.shape[1]\n",
        "  loss_output = -1 * np.mean(Y*np.log(A[-1]+epsilon) + (1-Y) * np.log(1 - A[-1]+epsilon))\n",
        "\n",
        "  #BACK-PROPAGATION\n",
        "  dZ[num_layers] = (A[num_layers] - Y) # Está asumiendo sigmoid en la última capa\n",
        "\n",
        "  for i in reversed(range(1, num_layers + 1)):\n",
        "    ############################\n",
        "    # TODO - Inicio\n",
        "    # \n",
        "    # Completa el código reemplazando los puntos suspensivos.\n",
        "    # Se han incluido algunas instrucciones assert para comprobar algunos errores típicos.\n",
        "    #  \n",
        "    # Debes calcular las derivadas parciales con respecto a W, b, A y Z. Revisa el código de los vídeos\n",
        "    ############################\n",
        "    dW[i] = np.dot(A[i-1], dZ[i].T) / num_patterns\n",
        "    assert dW[i].shape == W[i].shape, \\\n",
        "       'dW['+str(i)+'].shape es ' + str(dW[i].shape) + ' y debería ser ' + str(W[i].shape)\n",
        "    db[i] = np.mean(dZ[i], axis=1, keepdims=True)\n",
        "    assert db[i].shape == b[i].shape, \\\n",
        "       'db['+str(i)+'].shape es ' + str(db[i].shape) + ' y debería ser ' + str(b[i].shape)\n",
        "    dA[i-1] = np.dot(W[i], dZ[i])\n",
        "    assert dA[i-1].shape == A[i-1].shape, \\\n",
        "       'dA['+str(i-1)+'].shape es ' + str(dA[i-1].shape) + ' y debería ser ' + str(A[i-1].shape)\n",
        "    dZ[i-1] = dA[i-1] * g_prime[i-1](Z[i-1])\n",
        "    assert Z[i-1] is None or dZ[i-1].shape == Z[i-1].shape, \\\n",
        "       str(dZ[i-1] is None) + 'dZ['+str(i-1)+'].shape es ' + str(dZ[i-1].shape) + ' y debería ser ' + str(Z[i-1].shape)\n",
        "    ############################\n",
        "    # TODO - Fin\n",
        "    ############################\n",
        "\n",
        "  # ACTUALIZAR PARÁMETROS\n",
        "  for i in range(1, num_layers + 1):\n",
        "    W[i] = W[i] - alpha * dW[i]\n",
        "    assert dW[i].shape == W[i].shape, \\\n",
        "       'W['+str(i)+'].shape es ' + str(W[i].shape) + ' y debería ser ' + str(dW[i].shape)\n",
        "    b[i] = b[i] - alpha * db[i]\n",
        "    assert db[i].shape == b[i].shape, \\\n",
        "       'b['+str(i)+'].shape es ' + str(b[i].shape) + ' y debería ser ' + str(db[i].shape)\n",
        "\n",
        "  return loss_output, ratio_errors\n",
        "\n",
        "\n",
        "\n",
        "\n",
        "\n",
        "\n",
        "def two_layers_network_training(X,Y, nn_hl, g, g_prime, alpha, num_iterations):\n",
        "  \"\"\"\n",
        "  Función de predicción (propagación hacia adelante) en una red con dos capas\n",
        "\n",
        "  NO DEBES MODIFICAR NADA EN ESTA FUNCIÓN.\n",
        "\n",
        "  :param X: ndarray con los valores de los atributos del conjunto de patrones\n",
        "  :param Y: ndarray vector fila con los valores de las clases del conjunto de patrones\n",
        "  :param nn_hl: número de neuronas en la primera capa\n",
        "  :param g: lista de las funciones de activación de las neuronas por cada capa.\n",
        "            Por congruencia con el código para una red con más capas, utilizaremos\n",
        "            g[1] para la primera capa y g[2] para la segunda. g[0] no se utiliza\n",
        "  :param g_prime: lista de las funciones derivadas de las funciones \n",
        "            de activación de las neuronas por cada capa.\n",
        "            Por congruencia con el código para una red con más capas, utilizaremos\n",
        "            g_prime[1] para la primera capa y g_prime[2] para la segunda. g_prime[0] se asume que es la derivada de la función identidad\n",
        "  :param alfa: Hyperparámetro velocidad de aprendizaje.\n",
        "  :return: (W, b, loss_output, ratio_errors), donde\n",
        "            - W\n",
        "            - b\n",
        "            - loss_output es el error log cometido antes de actualizar los parámetros\n",
        "            - ratio_errors es el porcentaje de patrones en los que la red cometió error en la predicción, antes de actualizar los parámetros\n",
        "  \"\"\"\n",
        "  np.random.seed(1)\n",
        "\n",
        "  assert len(g) == len(g_prime), 'El número de funciones de activación en g, ' + str(len(g)) + ', debe ser igual al número de funciones derivadas de g en g_prime, ' + str(len(g_prime))\n",
        "  assert g[2] == protected_sigmoid, 'Esta función no admite una función de activación en la segunda capa diferente a protected_sigmoid'\n",
        "  assert g_prime[2] == sigmoid_prime, 'Esta función no admite una función derivada de la función de activación de la segunda capa diferente a la derivada de la sigmoide'\n",
        "  assert g_prime[0] == identity_prime, 'Esta función no admite una función derivada en g_prime[0] diferente a identity_prime'\n",
        "\n",
        "  # INICIALIZACIÓN DE PARÁMETROS\n",
        "  num_layers = 2\n",
        "\n",
        "  W,b = [None],[None] # nada para la capa 0\n",
        "  W.append(np.random.randn(X.shape[0], nn_hl) * np.sqrt(2./X.shape[0]))\n",
        "  b.append(np.zeros((nn_hl,1)))\n",
        "  W.append(np.random.randn(nn_hl, 1) * np.sqrt(2./nn_hl))\n",
        "  b.append(np.zeros((1,1)))\n",
        "\n",
        "  #ENTRENAMIENTO\n",
        "  loss_output = []\n",
        "  num_errors_data = []\n",
        "  for i in tqdm(range(num_iterations)):\n",
        "    error_log, num_errors = two_layers_network_training_step(X,Y, alpha, W, b, g, g_prime)\n",
        "    loss_output.append(error_log)\n",
        "    num_errors_data.append(num_errors)\n",
        "\n",
        "    if i % 500 == 0:\n",
        "      show_progress(loss_output, num_errors_data, num_iterations)\n",
        "\n",
        "  return W, b, loss_output, num_errors_data\n",
        "\n",
        "\n"
      ]
    },
    {
      "cell_type": "markdown",
      "metadata": {
        "id": "XnpluvtM1xJw"
      },
      "source": [
        "# Prueba Red Neuronal de 2 capas en Infartos de Miocardio"
      ]
    },
    {
      "cell_type": "markdown",
      "metadata": {
        "id": "ZDtxk2GiRFNv"
      },
      "source": [
        "## Conjunto de datos de infartos de miocardio\n",
        "\n",
        "Lo primero que haremos será cargar un conjunto de datos del repositorio UCI (un repositorio con muchos conjuntos de datos de todo tipo)\n",
        "\n",
        "Vamos a trabajar con un conjunto de datos sobre casos de infartos de miocardio:\n",
        "\n",
        "**Myocardial infarction complications Data Set**\n",
        "(https://archive.ics.uci.edu/ml/datasets/Myocardial+infarction+complications)\n",
        "\n",
        "Por ahora, lo que nos interesa saber es que las características de los casos\n",
        "son de tipo numérico, son 123, y la característica objetivo toma ocho\n",
        "valores. Sin embargo, transformaremos el dataset para considerar el valor 0\n",
        "como \"sin complicaciones\", y el resto como \"con complicaciones\"."
      ]
    },
    {
      "cell_type": "code",
      "execution_count": 7,
      "metadata": {
        "id": "ShcbVFxzWjYg"
      },
      "outputs": [],
      "source": [
        "%%capture\n",
        "# La instrucción anterior omite mensajes que producen las intrucciones en esta\n",
        "# celda. No son necesarios si todo va bien, en particular, si la siguiente celda\n",
        "# se ejecuta sin problemas.\n",
        "\n",
        "# Obtener el fichero de datos del respositorio UCI\n",
        "!wget -c https://archive.ics.uci.edu/ml/machine-learning-databases/00579/MI.data\n",
        "\n",
        "import numpy as np\n",
        "\n",
        "# Cargar los datos\n",
        "data = np.genfromtxt('MI.data',delimiter=',')\n",
        "num_features = data.shape[1]-1\n",
        "num_patterns = data.shape[0]\n",
        "\n",
        "# Éstas son las características de los casos\n",
        "X = data[:,0:num_features].T\n",
        "\n",
        "# El conjunto de datos tiene algunos valores perdidos. Los vamos a reemplazar por -1\n",
        "np.nan_to_num(X, copy=False, nan=-1)\n",
        "\n",
        "# Y éstos son los valores del atributo objetivo\n",
        "# Fíjate en que realizamos una transformación para marcar si hubo o no\n",
        "# complicaciones ( > 0)\n",
        "Y = np.where(data[:, num_features].reshape((1,num_patterns)) > 0, 1, 0)"
      ]
    },
    {
      "cell_type": "code",
      "execution_count": 8,
      "metadata": {
        "id": "LYKgKVeG6ZAx"
      },
      "outputs": [
        {
          "name": "stdout",
          "output_type": "stream",
          "text": [
            "El conjunto de datos tiene 1700 patrones con 123 atributos cada uno\n",
            "El atributo objetivo sólo presenta los valores [0 1]\n",
            "271(15.941%) con valor 1, y 1429(84.059%) con valor 0.\n"
          ]
        }
      ],
      "source": [
        "# Imprimimos alguna información del dataset\n",
        "print('El conjunto de datos tiene', num_patterns,\n",
        "      'patrones con', num_features, 'atributos cada uno')\n",
        "print('El atributo objetivo sólo presenta los valores', np.unique(Y))\n",
        "print(np.sum(Y), '({:.3f}%)'.format(100*np.sum(Y)/Y.shape[1]), ' con valor 1, y ',\n",
        "      Y.shape[1]-np.sum(Y[:,:]), '({:.3f}%)'.format(100*(Y.shape[1]-np.sum(Y[:,:]))/Y.shape[1]),\n",
        "      ' con valor 0.', sep='')"
      ]
    },
    {
      "cell_type": "markdown",
      "metadata": {
        "id": "zM-qo6_MtA6_"
      },
      "source": [
        "### Probar con 10 neuronas y función sigmoide\n",
        "\n",
        "Debiéramos mejorar notoriamente los resultados de la Regresión Logística"
      ]
    },
    {
      "cell_type": "code",
      "execution_count": 9,
      "metadata": {
        "id": "_XRlWPmStKzW"
      },
      "outputs": [
        {
          "data": {
            "image/png": "[encoded data removed]",
            "text/plain": [
              "<Figure size 432x288 with 2 Axes>"
            ]
          },
          "metadata": {},
          "output_type": "display_data"
        },
        {
          "data": {
            "text/plain": [
              "'Current Error log.: 0.13140 / Min Error log.: 0.11732'"
            ]
          },
          "metadata": {},
          "output_type": "display_data"
        },
        {
          "data": {
            "text/plain": [
              "'Current Ratio of errors: 4.58824% / Min Ratio of errors: 3.35294%'"
            ]
          },
          "metadata": {},
          "output_type": "display_data"
        },
        {
          "name": "stderr",
          "output_type": "stream",
          "text": [
            "100%|██████████| 25000/25000 [02:07<00:00, 196.34it/s]\n"
          ]
        },
        {
          "data": {
            "text/plain": [
              "<Figure size 432x288 with 0 Axes>"
            ]
          },
          "metadata": {},
          "output_type": "display_data"
        }
      ],
      "source": [
        "nn_hl = 10\n",
        "g = [identity, protected_sigmoid, protected_sigmoid]\n",
        "g_prime = [identity_prime, sigmoid_prime, sigmoid_prime]\n",
        "num_iterations = 25000\n",
        "alpha = 0.01 # Se probó con varios valores. Éste pareció el más conveniente\n",
        "\n",
        "W_miocardio, b_miocardio, loss_miocarcio, ratio_errors_miocardio = \\\n",
        "  two_layers_network_training(X,Y, nn_hl, g, g_prime, alpha, num_iterations)"
      ]
    },
    {
      "cell_type": "code",
      "execution_count": 10,
      "metadata": {},
      "outputs": [
        {
          "name": "stdout",
          "output_type": "stream",
          "text": [
            "0.841\n"
          ]
        }
      ],
      "source": [
        "print(np.round(ratio_errors_miocardio[0], 3))"
      ]
    },
    {
      "cell_type": "markdown",
      "metadata": {
        "id": "ga_b2nwCtHKp"
      },
      "source": [
        "### Probar con 10 neuronas y función ReLU\n",
        "\n",
        "En este caso, no vamos a obtener mejores resultados con la ReLU que con la sigmoide. Es de esperar que la sigmoide funcione mejor cuando hay pocas capas y las redes no sean muy grandes (aunque también depende del hyperparámetro velocidad de aprendizaje)."
      ]
    },
    {
      "cell_type": "code",
      "execution_count": 11,
      "metadata": {
        "id": "Ajr3PXUp54I7"
      },
      "outputs": [
        {
          "data": {
            "image/png": "[encoded data removed]",
            "text/plain": [
              "<Figure size 432x288 with 2 Axes>"
            ]
          },
          "metadata": {},
          "output_type": "display_data"
        },
        {
          "data": {
            "text/plain": [
              "'Current Error log.: 0.13286 / Min Error log.: 0.13078'"
            ]
          },
          "metadata": {},
          "output_type": "display_data"
        },
        {
          "data": {
            "text/plain": [
              "'Current Ratio of errors: 4.29412% / Min Ratio of errors: 4.11765%'"
            ]
          },
          "metadata": {},
          "output_type": "display_data"
        },
        {
          "name": "stderr",
          "output_type": "stream",
          "text": [
            "100%|██████████| 25000/25000 [01:47<00:00, 232.27it/s]\n"
          ]
        },
        {
          "data": {
            "text/plain": [
              "<Figure size 432x288 with 0 Axes>"
            ]
          },
          "metadata": {},
          "output_type": "display_data"
        }
      ],
      "source": [
        "nn_hl = 10\n",
        "g = [identity, relu, protected_sigmoid]\n",
        "g_prime = [identity_prime, relu_prime, sigmoid_prime]\n",
        "num_iterations = 25000\n",
        "alpha = 0.001 # Se probó con varios valores. Éste pareció el más conveniente\n",
        "\n",
        "W_miocardio_10, b_miocardio_10, loss_miocarcio_10, ratio_errors_miocardio_10 = \\\n",
        "  two_layers_network_training(X,Y, nn_hl, g, g_prime, alpha, num_iterations)"
      ]
    },
    {
      "cell_type": "code",
      "execution_count": 14,
      "metadata": {},
      "outputs": [
        {
          "name": "stdout",
          "output_type": "stream",
          "text": [
            "0.044\n",
            "0.836\n"
          ]
        }
      ],
      "source": [
        "print(np.round(ratio_errors_miocardio_10[-1], 3))\n",
        "print(np.round(ratio_errors_miocardio_10[0], 3))\n"
      ]
    },
    {
      "cell_type": "markdown",
      "metadata": {
        "id": "F_0YjnhaZRdD"
      },
      "source": [
        "# Código para el entrenamiento de una Red Neuronal de muchas capas\n",
        "\n",
        "Te sugiero que no avances en la programación del entrenamiento de una Red Neuronal de muchas capas hasta no estar convencido de tener el caso de dos capas correcto."
      ]
    },
    {
      "cell_type": "code",
      "execution_count": 5,
      "metadata": {
        "id": "UTBDzvoknQfW"
      },
      "outputs": [],
      "source": [
        "import numpy as np\n",
        "from tqdm import tqdm\n",
        "from IPython import display;\n",
        "import matplotlib.pyplot as plt\n",
        "\n",
        "# Inicializamos la semilla de números aleatorios para que siempre se produzca\n",
        "# la misma secuencia de los mismos\n",
        "#plt.ion()\n",
        "\n",
        "def neural_network_prediction(X, W, b, g):\n",
        "  \"\"\"\n",
        "  Función de predicción (propagación hacia adelante) en una red con varias capas\n",
        "\n",
        "  DEBES COMPLETAR ESTA FUNCIÓN\n",
        "\n",
        "  :param X: ndarray con los valores de los atributos del conjunto de patrones\n",
        "  :param W: lista de matrices con los parámetros W de las neuronas de cada capa.\n",
        "            W[1] para la primera capa, W[2] para la segunda capa... W[0] no se utiliza.\n",
        "  :param b: lista de vectores fila con los parámetros b de las neuronas de cada capa.\n",
        "            b[1] para la primera capa, b[2] para la segunda capa... b[0] no se utiliza.\n",
        "  :param g: lista de las funciones de activación de las neuronas por cada capa.\n",
        "            g[1] para la primera capa, g[2] para la segunda... g[0] no se utiliza\n",
        "  :return: (predictions, Z, A), donde\n",
        "            - predictions es un ndarray con los valores de la clase predicha (0 o 1) para los patrones en X\n",
        "            - Z es una lista con ndarray con los valores intermedios calculados por las neuronas de cada capa.\n",
        "              Z[1] para la primera capa, Z[2] para la segunda... Z[0] tendrá X\n",
        "            - A es una lista con ndarray con los valores de activación de las neuronas de cada capa.\n",
        "              A[1] es la activación de la primera capa, A[2] para la segunda... A[0] son los mismos patrones de entrada.\n",
        "  \"\"\"\n",
        "  num_layers = len(W)-1\n",
        "  num_patterns = X.shape[1]\n",
        "  A,Z = [None] * (num_layers + 1), [None] * (num_layers + 1)\n",
        "  A[0] = X\n",
        "  Z[0] = X\n",
        "\n",
        "  for i in range(1, num_layers + 1):\n",
        "    ############################\n",
        "    # TODO - Inicio\n",
        "    # \n",
        "    # Completa el código reemplazando los puntos suspensivos.\n",
        "    # Se han incluido algunas instrucciones assert para comprobar algunos errores típicos.\n",
        "    #  \n",
        "    # 1. Debes calcular la transformación lineal de las neuronas de cada capa\n",
        "    # y almacenarlo en la posición correspondiente de la variable Z. Recuerda que\n",
        "    # esta transformación se calcula como el producto de la matriz de\n",
        "    # parámetros W correspondiente, por la salida de las neuronas de la\n",
        "    # capa anterior, más sus escalares.\n",
        "    #\n",
        "    # 2. Debes calcular la salida de las neuronas de cada capa y almacenarlo en\n",
        "    # la posición correspondiente de la variable A. Recuerda que debes utilizar\n",
        "    # la lista de funciones de activación g.\n",
        "    ############################\n",
        "    Z[i] = np.dot(W[i].T, A[i-1]) + b[i]\n",
        "    assert Z[i].shape == (W[i].shape[1],X.shape[1]), \\\n",
        "       'Z['+str(i)+'].shape es ' + str(Z[i].shape) + ' y debería ser (' + str(W[i].shape[1]) + ',' + str(X.shape[1]) + ')'\n",
        "    A[i] = g[i](Z[i])\n",
        "    assert A[i].shape == Z[i].shape, \\\n",
        "       'A['+str(i)+'].shape es ' + str(A[i].shape) + ' y debería ser ' + str(Z[i].shape)\n",
        "    ############################\n",
        "    # TODO - Fin\n",
        "    ############################\n",
        "\n",
        "  return np.round(A[num_layers]), Z, A\n",
        "\n",
        "\n",
        "\n",
        "\n",
        "\n",
        "def neural_network_training_step(X, Y, alfa, W, b, g, g_prime):\n",
        "  \"\"\"\n",
        "  Función para una iteración del entrenamiento de una red con dos capas\n",
        "\n",
        "  DEBES COMPLETAR ESTA FUNCIÓN\n",
        "\n",
        "  :param X: ndarray con los valores de los atributos del conjunto de patrones\n",
        "  :param Y: ndarray vector fila con los valores de las clases del conjunto de patrones\n",
        "  :param alfa: Hyperparámetro velocidad de aprendizaje.\n",
        "  :param W: lista de matrices con los parámetros W de las neuronas de cada capa.\n",
        "            W[1] para la primera capa, W[2] para la segunda capa... W[0] no se utiliza.\n",
        "            LA FUNCIÓN ACTUALIZA ESTOS VALORES.\n",
        "  :param b: lista de vectores fila con los parámetros b de las neuronas de cada capa.\n",
        "            b[1] para la primera capa y b[2] para la segunda capa... b[0] no se utiliza.\n",
        "            LA FUNCIÓN ACTUALIZA ESTOS VALORES.\n",
        "  :param g: lista de las funciones de activación de las neuronas por cada capa.\n",
        "            g[1] para la primera capa, g[2] para la segunda.... g[0] no se utiliza\n",
        "  :param g_prime: lista de las funciones derivadas de las funciones de activación\n",
        "            de las neuronas por cada capa.\n",
        "            g_prime[1] para la primera capa, g_prime[2] para la segunda...\n",
        "  :return: (loss_output, ratio_errors), donde\n",
        "            - loss_output es el error log cometido antes de actualizar los parámetros\n",
        "            - ratio_errors es el porcentaje de patrones en los que la red cometió error en la predicción, antes de actualizar los parámetros\n",
        "  \"\"\"\n",
        "\n",
        "  assert g[-1] == protected_sigmoid, 'Esta función no admite una función de activación en la última capa diferente a protected_sigmoid'\n",
        "  assert g_prime[-1] == sigmoid_prime, 'Esta función no admite una función derivada de la función de activación de la última capa diferente a la derivada de la sigmoide'\n",
        "  assert g_prime[0] == identity_prime, 'Esta función no admite una función derivada en g_prime[0] diferente a identity_prime'\n",
        "\n",
        "  #Inicialización de variables\n",
        "  num_layers = len(W)-1\n",
        "  num_patterns = X.shape[1]\n",
        "  dZ,dA = [None] * (num_layers + 1), [None] * (num_layers + 1)\n",
        "  dW,db = [None] * (num_layers + 1), [None] * (num_layers + 1)\n",
        "\n",
        "  # Esta constante es sólo para evitar errores al calcular el logaritmo de 0\n",
        "  epsilon = 1e-100\n",
        "\n",
        "  #FORWARD PROPAGATION\n",
        "  Y_pred, Z, A = neural_network_prediction(X, W, b, g)\n",
        "\n",
        "  # Cálculo d errores\n",
        "  num_errors = np.sum(np.abs(Y - Y_pred)) / Y.shape[1]\n",
        "  error_log = -1 * np.mean(Y*np.log(A[-1]+epsilon) + (1-Y) * np.log(1 - A[-1]+epsilon))\n",
        "\n",
        "  #BACK-PROPAGATION\n",
        "  dZ[-1] = (A[-1] - Y) # Está asumiendo sigmoid en la última capa\n",
        "\n",
        "  for i in reversed(range(1, num_layers + 1)):\n",
        "    ############################\n",
        "    # TODO - Inicio\n",
        "    # \n",
        "    # Completa el código reemplazando los puntos suspensivos.\n",
        "    # Se han incluido algunas instrucciones assert para comprobar algunos errores típicos.\n",
        "    #  \n",
        "    # Debes calcular las derivadas parciales con respecto a W, b, A y Z. Revisa el código de los vídeos\n",
        "    ############################\n",
        "    dW[i] = np.dot(A[i-1], dZ[i].T) / num_patterns\n",
        "    assert dW[i].shape == W[i].shape, \\\n",
        "       'dW['+str(i)+'].shape es ' + str(dW[i].shape) + ' y debería ser ' + str(W[i].shape)\n",
        "    db[i] = np.sum(dZ[i], axis=1, keepdims=True)\n",
        "    assert db[i].shape == b[i].shape, \\\n",
        "       'db['+str(i)+'].shape es ' + str(db[i].shape) + ' y debería ser ' + str(b[i].shape)\n",
        "    dA[i-1] = np.dot(W[i], dZ[i])\n",
        "    assert dA[i-1].shape == A[i-1].shape, \\\n",
        "       'dA['+str(i-1)+'].shape es ' + str(dA[i-1].shape) + ' y debería ser ' + str(A[i-1].shape)\n",
        "    dZ[i-1] = dA[i-1] * g_prime[i-1](Z[i-1])\n",
        "    assert Z[i-1] is None or dZ[i-1].shape == Z[i-1].shape, \\\n",
        "       str(dZ[i-1] is None) + 'dZ['+str(i-1)+'].shape es ' + str(dZ[i-1].shape) + ' y debería ser ' + str(Z[i-1].shape)\n",
        "    ############################\n",
        "    # TODO - Fin\n",
        "    ############################\n",
        "\n",
        "  # ACTUALIZAR PARÁMETROS\n",
        "  for i in range(1, num_layers + 1):\n",
        "    W[i] = W[i] - alpha * dW[i]\n",
        "    assert dW[i].shape == W[i].shape, \\\n",
        "       'W['+str(i)+'].shape es ' + str(W[i].shape) + ' y debería ser ' + str(dW[i].shape)\n",
        "    b[i] = b[i] - alpha * db[i]\n",
        "    assert db[i].shape == b[i].shape, \\\n",
        "       'b['+str(i)+'].shape es ' + str(b[i].shape) + ' y debería ser ' + str(db[i].shape)\n",
        "\n",
        "  return error_log, num_errors\n",
        "\n",
        "\n",
        "\n",
        "def neural_network_training(X,Y, nn_p_l, g, g_prime, alpha, num_iterations):\n",
        "  \"\"\"\n",
        "  Función para el entrenamiento, en varias iteraciones, de una red con múltiples capas\n",
        "\n",
        "  NO DEBES MODIFICAR NADA EN ESTA FUNCIÓN.\n",
        "\n",
        "  :param X: ndarray con los valores de los atributos del conjunto de patrones\n",
        "  :param Y: ndarray vector fila con los valores de las clases del conjunto de patrones\n",
        "  :param nn_p_l: lista con el número de neuronas en cada capa.\n",
        "            nn_p_l[1] para la primera capa, nn_p_l[2] para la segunda capa... nn_p_l[0] no se utiliza\n",
        "  :param alfa: Hyperparámetro velocidad de aprendizaje.\n",
        "  :param W: lista de matrices con los parámetros W de las neuronas de cada capa.\n",
        "            W[1] para la primera capa, W[2] para la segunda capa... W[0] no se utiliza.\n",
        "            LA FUNCIÓN ACTUALIZA ESTOS VALORES.\n",
        "  :param b: lista de vectores fila con los parámetros b de las neuronas de cada capa.\n",
        "            b[1] para la primera capa y b[2] para la segunda capa... b[0] no se utiliza.\n",
        "            LA FUNCIÓN ACTUALIZA ESTOS VALORES.\n",
        "  :param g: lista de las funciones de activación de las neuronas por cada capa.\n",
        "            g[1] para la primera capa, g[2] para la segunda.... g[0] no se utiliza\n",
        "  :param g_prime: lista de las funciones derivadas de las funciones de activación\n",
        "            de las neuronas por cada capa.\n",
        "            g_prime[1] para la primera capa, g_prime[2] para la segunda...\n",
        "  :return: (loss_output, ratio_errors), donde\n",
        "            - loss_output es el error log cometido antes de actualizar los parámetros\n",
        "            - ratio_errors es el porcentaje de patrones en los que la red cometió error en la predicción, antes de actualizar los parámetros\n",
        "  \"\"\"\n",
        "  np.random.seed(1)\n",
        "\n",
        "  assert len(nn_p_l) == len(g), 'El número de capas en nn_p_l, ' + str(len(nn_p_l)) + ', debe ser igual al número de funciones de activación en g, ' + str(len(g))\n",
        "  assert len(g) == len(g_prime), 'El número de funciones de activación en g, ' + str(len(g)) + ', debe ser igual al número de funciones derivadas de g en g_prime, ' + str(len(g_prime))\n",
        "\n",
        "  # INICIALIZACIÓN DE PARÁMETROS\n",
        "  num_layers = len(nn_p_l)-1\n",
        "  nn_p_l[0] = X.shape[0]\n",
        "  W,b = [None],[None] # nada para la capa 0\n",
        "  for i in range(1, num_layers+1):\n",
        "    W.append(np.random.randn(nn_p_l[i-1], nn_p_l[i]) * 2./np.sqrt(nn_p_l[i-1]))\n",
        "    b.append(np.zeros((nn_p_l[i],1)))\n",
        "\n",
        "  #ENTRENAMIENTO\n",
        "  loss_output = []\n",
        "  num_errors_data = []\n",
        "  for i in tqdm(range(num_iterations)):\n",
        "    error_log, num_errors = neural_network_training_step(X,Y, alpha, W, b, g, g_prime)\n",
        "    loss_output.append(error_log)\n",
        "    num_errors_data.append(num_errors)\n",
        "\n",
        "    if i % 500 == 0:\n",
        "      show_progress(loss_output, num_errors_data, num_iterations)\n",
        "\n",
        "  return W, b, loss_output, num_errors_data\n"
      ]
    },
    {
      "cell_type": "markdown",
      "metadata": {
        "id": "aKqIxcJU2B16"
      },
      "source": [
        "# Prueba Red Neuronal con varias capas en Infartos de miocardio"
      ]
    },
    {
      "cell_type": "markdown",
      "metadata": {
        "id": "Pf7mH05w8EaR"
      },
      "source": [
        "### Prueba Red Neuronal con función sigmoide\n",
        "\n",
        "Los resultados serán algo peores que la prueba anterior de dos capas. Sin embargo, si le diésemos suficientes recursos computacionales (más iteraciones), debería poder obtener mejores resultados, pues puede representar información más compleja que el modelo de dos capas."
      ]
    },
    {
      "cell_type": "code",
      "execution_count": null,
      "metadata": {
        "id": "JgHssWsp_Jos"
      },
      "outputs": [],
      "source": [
        "# Entrenamiento\n",
        "nn_p_l = [None, 10, 5, 2, 1]\n",
        "g = [identity, protected_sigmoid, protected_sigmoid, protected_sigmoid, protected_sigmoid]\n",
        "g_prime = [identity_prime, sigmoid_prime, sigmoid_prime, sigmoid_prime, sigmoid_prime]\n",
        "\n",
        "alpha = 0.01\n",
        "num_iterations = 25000\n",
        "\n",
        "W,b,loss_output_mio,num_errors_mio = neural_network_training(X,Y, nn_p_l, g, g_prime, alpha, num_iterations)"
      ]
    },
    {
      "cell_type": "markdown",
      "metadata": {
        "id": "bTgN0On078Zo"
      },
      "source": [
        "### Prueba Red Neuronal con función ReLU\n",
        "\n",
        "En este caso obtendremos mejores resultados con ReLU que con sigmoide, y próximos a los de la red neuronal de dos capas y sigmoide.\n",
        "\n",
        "La función ReLU está funcionando bien en esta red con múltiples capas, y con algunos recursos computaciones adicionales, incluso mejoraría los resultados de la red con dos capas."
      ]
    },
    {
      "cell_type": "code",
      "execution_count": null,
      "metadata": {
        "id": "9BAnzIjURJpG"
      },
      "outputs": [],
      "source": [
        "# Entrenamiento\n",
        "nn_p_l = [None, 10, 5, 2, 1]\n",
        "g = [identity, relu, relu, relu, protected_sigmoid]\n",
        "g_prime = [identity_prime, relu_prime, relu_prime, relu_prime, sigmoid_prime]\n",
        "\n",
        "alpha = 0.001 # Se probó con otros valores, y este pareció el más oportuno\n",
        "num_iterations = 25000\n",
        "\n",
        "W,b,loss_output_mio_relu,num_errors_mio_relu = neural_network_training(X,Y, nn_p_l, g, g_prime, alpha, num_iterations)"
      ]
    },
    {
      "cell_type": "markdown",
      "metadata": {
        "id": "3o_KU4Cd8b8s"
      },
      "source": [
        "# Prueba Red Neuronal con varias capas en dígitos escritos a mano\n",
        "\n",
        "En este caso, vamos a utilizar un conjunto de datos de dígitos escritos a mano. Por curiosidad, te sugiero que le eches un vistazo al fichero optdigits-orig.tra que se encuentra dentro del fichero en https://archive.ics.uci.edu/ml/machine-learning-databases/optdigits/optdigits-orig.tra.Z\n",
        "\n",
        "Aunque en dicho conjunto de datos se encuentran dígitos del 0 al 9, nosotros intentaremos entrenar un modelo de regresión logística para ver si puede detectar los dígitos que corresponden a números primos, es decir, el 2, el 3, el 5 y el 7.\n",
        "\n",
        "En este caso, nos debemos quedar cerca de los resultados de la Regresión Logística. En cualquier caso, con mayores recursos computaciones (iteraciones) se debierá poder incluso obtener mejores resultados."
      ]
    },
    {
      "cell_type": "code",
      "execution_count": null,
      "metadata": {
        "id": "B-eUIQ5X8qB1"
      },
      "outputs": [],
      "source": [
        "import matplotlib.pyplot as plt\n",
        "\n",
        "# Hand-written digits\n",
        "!wget -c https://archive.ics.uci.edu/ml/machine-learning-databases/optdigits/optdigits.tra &> /dev/null\n",
        "# https://archive.ics.uci.edu/ml/datasets/Optical+Recognition+of+Handwritten+Digits\n",
        "\n",
        "# Obtener los datos\n",
        "data = np.genfromtxt('optdigits.tra',delimiter=',')\n",
        "num_features = data.shape[1]-1\n",
        "num_patterns = data.shape[0]\n",
        "X_2 = data[:,0:num_features].T\n",
        "\n",
        "# Marcar los patrones que corresponden a números primos\n",
        "Y_2 = np.where((data[:,num_features] == 2) | (data[:,num_features] == 3) |\n",
        "               (data[:,num_features] == 5) |\n",
        "               (data[:,num_features] == 7), 1, 0).reshape((1,num_patterns))\n",
        "\n",
        "# Entrenamiento\n",
        "nn_p_l = [None, 10, 5, 2, 1]\n",
        "g = [identity, relu, relu, relu, protected_sigmoid]\n",
        "g_prime = [identity_prime, relu_prime, relu_prime, relu_prime, sigmoid_prime]\n",
        "\n",
        "alpha = 0.001 # Se probó con otros valores, y este pareció el más oportuno\n",
        "num_iterations = 25000\n",
        "\n",
        "W,b,loss_output_dig,num_errors_dig = neural_network_training(X_2,Y_2, nn_p_l, g, g_prime, alpha, num_iterations)"
      ]
    },
    {
      "cell_type": "markdown",
      "metadata": {
        "id": "ME3QCeBn8zE0"
      },
      "source": [
        "# Prueba en un conjunto de datos complicado\n",
        "\n",
        "En la siguiente celda se va a generar un conjunto de datos de forma aleatoria. Después de mostrarlo visualmente, evaluaremos la capacidad del modelo de Regresión Logística de aprender la clase de dicho conjunto de datos.\n",
        "\n",
        "A partir de la visualización del conjunto, observa que se podrián diferenciar 7 regiones del espacio, que tienen tamaños \"similares\", en las que 2 tienen un claro solapamiento y las otras 5, o no solapamiento o muy bajo. Por tanto, sería esperable que un humano consiguiese un porcentaje de acierto de alrededor de 5/7, es decir 70%. O lo que es lo mismo, un error alrededor del 30%.\n",
        "\n",
        "En este caso, claramente se obtienen mejores resultados que con la Regresión Logística. Este conjunto es el más complejo, y requiere de un modelo muy flexible para adaptarse a sus características."
      ]
    },
    {
      "cell_type": "code",
      "execution_count": 3,
      "metadata": {
        "id": "t4xv_I-P85Ih"
      },
      "outputs": [
        {
          "data": {
            "image/png": "[encoded data removed]",
            "text/plain": [
              "<Figure size 432x288 with 1 Axes>"
            ]
          },
          "metadata": {
            "needs_background": "light"
          },
          "output_type": "display_data"
        }
      ],
      "source": [
        "import numpy as np\n",
        "import matplotlib.pyplot as plt\n",
        "\n",
        "# Inicializamos la semilla de números aleatorios para que siempre se produzca\n",
        "# la misma secuencia de los mismos\n",
        "np.random.seed(1)\n",
        "\n",
        "num_features = 2\n",
        "num_patterns = 500\n",
        "\n",
        "X_3 = np.random.uniform(-1,1, num_features * num_patterns).reshape((num_features, num_patterns))\n",
        "X_3[1,:int(num_patterns / 2)] = (X_3[0,:int(num_patterns / 2)]+0.25)**2 + \\\n",
        "    np.random.randn(int(num_patterns / 2))/5 - 0.75\n",
        "X_3[0,int(num_patterns / 2):] -= 0.5\n",
        "X_3[1,int(num_patterns / 2):] = -(X_3[0,int(num_patterns / 2):]+0.5)**2 + \\\n",
        "    np.random.randn(int(num_patterns / 2))/5\n",
        "Y_3 = np.repeat([0,1], num_patterns / 2).reshape((1, num_patterns))\n",
        "\n",
        "plt.scatter(X_3[0,:], X_3[1,:], c=Y_3);"
      ]
    },
    {
      "cell_type": "code",
      "execution_count": null,
      "metadata": {
        "id": "FFOD34yC87Ch"
      },
      "outputs": [],
      "source": [
        "# Entrenamiento\n",
        "nn_p_l = [None, 10, 5, 2, 1]\n",
        "g = [identity, relu, relu, relu, protected_sigmoid]\n",
        "g_prime = [identity_prime, relu_prime, relu_prime, relu_prime, sigmoid_prime]\n",
        "\n",
        "alpha = 0.001 # Se probó con otros valores, y este pareció el más oportuno\n",
        "num_iterations = 25000\n",
        "\n",
        "W,b,loss_output_compl,num_errors_compl = neural_network_training(X_3,Y_3, nn_p_l, g, g_prime, alpha, num_iterations)"
      ]
    },
    {
      "cell_type": "code",
      "execution_count": null,
      "metadata": {},
      "outputs": [],
      "source": []
    },
    {
      "cell_type": "code",
      "execution_count": 15,
      "metadata": {},
      "outputs": [
        {
          "data": {
            "image/png": "[encoded data removed]",
            "text/plain": [
              "<Figure size 432x288 with 2 Axes>"
            ]
          },
          "metadata": {},
          "output_type": "display_data"
        },
        {
          "data": {
            "text/plain": [
              "'Current Error log.: 0.28364 / Min Error log.: 0.28358'"
            ]
          },
          "metadata": {},
          "output_type": "display_data"
        },
        {
          "data": {
            "text/plain": [
              "'Current Ratio of errors: 15.60000% / Min Ratio of errors: 13.60000%'"
            ]
          },
          "metadata": {},
          "output_type": "display_data"
        },
        {
          "name": "stderr",
          "output_type": "stream",
          "text": [
            "100%|██████████| 25000/25000 [00:10<00:00, 2373.06it/s]\n"
          ]
        },
        {
          "data": {
            "text/plain": [
              "<Figure size 432x288 with 0 Axes>"
            ]
          },
          "metadata": {},
          "output_type": "display_data"
        }
      ],
      "source": [
        "nn_p_l = [None, 10, 5, 2, 1]\n",
        "g = [identity, relu, relu, relu, protected_sigmoid]\n",
        "g_prime = [identity_prime, relu_prime, relu_prime, relu_prime, sigmoid_prime]\n",
        "\n",
        "alpha = 0.001 # Se probó con otros valores, y este pareció el más oportuno\n",
        "num_iterations = 25000\n",
        "\n",
        "W,b,loss_output_compl,num_errors_compl = neural_network_training(X_3,Y_3, nn_p_l, g, g_prime, alpha, num_iterations)"
      ]
    },
    {
      "cell_type": "code",
      "execution_count": null,
      "metadata": {},
      "outputs": [],
      "source": []
    }
  ],
  "metadata": {
    "colab": {
      "collapsed_sections": [],
      "name": "Red Neuronal de Aprendizaje Profundo - Incompleto",
      "provenance": [],
      "toc_visible": true
    },
    "interpreter": {
      "hash": "e179be93ef73ea826d94e271bfbb0fe2117f41fb76ad72b15fc3ff88aef680c1"
    },
    "kernelspec": {
      "display_name": "Python 3.9.10 ('aprendizaje-profundo--sSqi39u-py3.9')",
      "language": "python",
      "name": "python3"
    },
    "language_info": {
      "codemirror_mode": {
        "name": "ipython",
        "version": 3
      },
      "file_extension": ".py",
      "mimetype": "text/x-python",
      "name": "python",
      "nbconvert_exporter": "python",
      "pygments_lexer": "ipython3",
      "version": "3.9.10"
    }
  },
  "nbformat": 4,
  "nbformat_minor": 0
}
