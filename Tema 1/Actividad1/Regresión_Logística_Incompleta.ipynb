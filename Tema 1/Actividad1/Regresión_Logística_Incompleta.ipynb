{
  "cells": [
    {
      "cell_type": "markdown",
      "metadata": {
        "id": "i7lDh4Um8swE"
      },
      "source": [
        "# Regresión Logística Incompleta\n",
        "\n",
        "Esta hoja Colaboratory está preparada para que puedas completar tu código del entrenamiento de la Regresión logística.\n",
        "\n",
        "**Recuerda que para guardar tus cambios deberás guardar una copia de esta hoja, por ejemplo, en tu cuenta de Google Drive. A partir de entonces, debieras acceder a tu copia. No a esta versión.**\n",
        "\n",
        "¡Suerte y Ánimo!"
      ]
    },
    {
      "cell_type": "markdown",
      "metadata": {
        "id": "d33N8Df9DOsz"
      },
      "source": [
        "## Funciones para el Entrenamiento y Predicción de la Regresión Logística\n",
        "\n",
        "En la siguiente celda debes completar las funciones para el funcionamiento y entrenamiento del modelo de Regresión Logística. Es la única celda donde debes completar código, pues el resto de celdas simplemente invocan a las funciones aquí definidas.\n",
        "\n",
        "Observa particularmente los comentarios con la etiqueta TODO (to-do, por-hacer)"
      ]
    },
    {
      "cell_type": "code",
      "execution_count": 1,
      "metadata": {
        "id": "Ue2hNR1HBZWz"
      },
      "outputs": [],
      "source": [
        "from tqdm import tqdm  # Para mostrar una barra de progreso\n",
        "from IPython import display; # Para poder borrar la salida de las celdas, y presentar gráficos del progreso poco a poco\n",
        "import matplotlib.pyplot as plt # Para dibujar gráficas\n",
        "import numpy as np # Para el cálculo matemático sobre vectores y matrices\n",
        "\n",
        "\n",
        "def show_progress(loss_output, ratio_errors_data, max_iterations):\n",
        "  \"\"\"\n",
        "  Esta función simplemente muestra el progreso del entrenamiento de la Red en un gráfico.\n",
        "  También presenta el error log. actual, el mínimo en algún momento,\n",
        "  el porcentaje de errores actual, y el mínimo porcentaje de errore sen algún momento.\n",
        "\n",
        "  NO DEBES MODIFICAR NADA EN ESTA FUNCIÓN.\n",
        "\n",
        "  :param loss_output: lista con los valores de error log a mostrar en la gráfica\n",
        "  :param ratio_errors_data: lista con el porcentaje de errores de predicción a mostrar en la gráfica\n",
        "  :param max_iterations: Entero. Número máximo de iteraciones de entrenamiento. Se usara para fijar el rango del eje x de la gráfica\n",
        "  :return: None\n",
        "  \"\"\"\n",
        "  fig, ax1 = plt.subplots();\n",
        "  ax2 = plt.gca().twinx();\n",
        "  plt.title('Error log. y Número de errores');\n",
        "  plt.xlabel('Iteración');\n",
        "  ax1.set_ylabel('Log Error');\n",
        "  ax2.set_ylabel('Ratio errors');\n",
        "  ax1.set_yscale(\"log\");\n",
        "  ax1.set_xlim([0, max_iterations]);\n",
        "  ax2.set_xlim([0, max_iterations]);\n",
        "  ax2.set_ylim([0, max(ratio_errors_data)]);\n",
        "  fig = plt.gcf();\n",
        "  ax1.plot(loss_output, label='Error log.');\n",
        "  ax2.plot(ratio_errors_data, label='Ratio errors', color='orange');\n",
        "  lines_1, labels_1 = ax1.get_legend_handles_labels();\n",
        "  lines_2, labels_2 = ax2.get_legend_handles_labels();\n",
        "  lines = lines_1 + lines_2;\n",
        "  labels = labels_1 + labels_2;\n",
        "  ax1.legend(lines, labels, loc='upper right');\n",
        "\n",
        "  _ = display.clear_output(wait=True);\n",
        "  _ = display.display(fig);\n",
        "\n",
        "  display.display('Current Error log.: {:.5f} / Min Error log.: {:.5f}'.format(loss_output[-1], np.min(loss_output)));\n",
        "  display.display('Current Ratio of errors: {:.5f}% / Min Ratio of errors: {:.5f}%'.format(ratio_errors_data[-1]*100, np.min(ratio_errors_data)*100));\n",
        "  plt.close('all');\n",
        "  plt.clf();\n",
        "\n",
        "\n",
        "\n",
        "def sigmoid(Z):\n",
        "  \"\"\"\n",
        "  Función sigmoide.\n",
        "  \n",
        "  DEBES COMPLETAR ESTA FUNCIÓN\n",
        "\n",
        "  :param Z: ndarray con los valores a los que se le desea aplicar la sigmoide\n",
        "  :return: ndarray con los valores resultado\n",
        "  \"\"\"\n",
        "  ############################\n",
        "  # TODO - Inicio\n",
        "  #\n",
        "  # Completa la fórmula de la función sigmoide reemplazando los puntos suspensivos por el resto de la expresión\n",
        "  # Recuerda que no necesitas hacer nada especial para tratar con ndarray de valores. Numpy lo hace por ti.\n",
        "  # Por ello, basta con que escribas la función usando directamente Z, sin usar ningún bucle for,\n",
        "  # y usando la función np.exp para la exponencia.\n",
        "  ############################\n",
        "  result = 1. / (1 + np.exp(-Z))\n",
        "  ############################\n",
        "  # TODO - Fin\n",
        "  ############################\n",
        "  return result\n",
        "\n",
        "\n",
        "\n",
        "def protected_sigmoid(Z):\n",
        "  \"\"\"\n",
        "  Función sigmoide protegida. Esta función simplemente engloba la anterior y la\n",
        "  protege frente a valores de Z que pudieran producir un overflow en el \n",
        "  cálculo de la exponencial. Es decir, un valor demasiado alto (negativo) de Z\n",
        "  podría hacer que el cálculo de np.exp(-Z) no fuese representable en el\n",
        "  programa. Esta función simplemente evita ese caso.\n",
        "\n",
        "  NO DEBES MODIFICAR NADA EN ESTA FUNCIÓN.\n",
        "\n",
        "  :param Z: ndarray con los valores a los que se le desea aplicar la sigmoide\n",
        "  :return: ndarray con los valores resultado\n",
        "  \"\"\"\n",
        "  assert type(Z) == np.ndarray, 'La función protected_sigmoid sólo acepta arrays de numpy, no ' + str(type(Z))\n",
        "  aux = np.where(-Z > np.log(np.finfo(Z.dtype).max), np.nan, Z)\n",
        "  result = sigmoid(aux)\n",
        "  return np.where(-Z > np.log(np.finfo(Z.dtype).max), 0.0, result)\n",
        "\n",
        "\n",
        "\n",
        "def logistic_reg_prediction(X, W, b):\n",
        "  \"\"\"\n",
        "  Función que usa el modelo de Regresión Logística para predecir la clase\n",
        "  de los patrones X de entrada\n",
        "\n",
        "  DEBES COMPLETAR ESTA FUNCIÓN\n",
        "\n",
        "  :param X: ndarray con los valores de los atributos del conjunto de patrones de los que se quiere saber la predicción.\n",
        "  :param W,b: parámetros del modelo\n",
        "  :return: (predictions, Z, A), donde\n",
        "            - predictions es un ndarray con los valores de la clase predicha (0 o 1) para los patrones en X\n",
        "            - Z es un ndarray con los valores intermedios calculados por el modelo\n",
        "            - A es un ndarray con los valores de activación del modelo\n",
        "  \"\"\"\n",
        "\n",
        "  # Obtener el número de atributos y ejemplos en el conjunto de patrones\n",
        "  num_features = X.shape[0]\n",
        "  num_patterns = X.shape[1]\n",
        "\n",
        "  ############################\n",
        "  # TODO - Inicio\n",
        "  #\n",
        "  # Completa el siguiente código, reemplazando los puntos suspensivos,\n",
        "  # con las operaciones para la propagación de la información de entrada\n",
        "  # hacia la salida.\n",
        "  # Recuerda:\n",
        "  #   - Z debe ser el producto del vector de parámetros W por X, más el escalar b\n",
        "  #   - A debe ser la salida de la neurona. Utiliza la función protected_sigmoid(Z)\n",
        "  #\n",
        "  #   - Aparte de eso, hemos añadido las instrucciones assert para verificar\n",
        "  #       que las operaciones dan como resultado los vectores y matrices\n",
        "  #       de dimensiones correctas\n",
        "  ############################\n",
        "  Z = np.sum(W * X, axis=0) + b\n",
        "  assert Z.shape == (1,num_patterns), 'Z.shape es ' + str(Z.shape) + ' y debería ser (1,' + str(num_patterns) + ')'\n",
        "  A = protected_sigmoid(Z)\n",
        "  assert A.shape == (1,num_patterns), 'A.shape es ' + str(A.shape) + ' y debería ser (1,' + str(num_patterns) + ')'\n",
        "  ############################\n",
        "  # TODO - Fin\n",
        "  ############################\n",
        "  return np.round(A), Z, A\n",
        "\n",
        "\n",
        "\n",
        "def logistic_reg_training(X, Y, alpha=0.00001, num_iterations = 100):\n",
        "  \"\"\"\n",
        "  FUNCIÓN DE ENTRENAMIENTO DE LA REGRESIÓN LOGÍSTICA.\n",
        "\n",
        "  DEBES COMPLETAR ESTA FUNCIÓN\n",
        "\n",
        "  :param X: ndarray con los valores de los atributos del conjunto de entrenamiento\n",
        "  :param Y: ndarray vector con los valores del atributo objetivo\n",
        "  :param alpha: Hiperparámetro velocidad de aprendizaje.\n",
        "  :param num_iterations: Número de iteraciones de entrenamiento.\n",
        "  :return: (W, b, loss_output, ratio_errors): W y b son los parámetros del modelo. loss_output\n",
        "           es una lista con los errores log del modelo con respecto a las iteraciones.\n",
        "           ratio_errors es una lista con el porcentaje de errores del modelo.\n",
        "  \"\"\"\n",
        "\n",
        "  # Inicializamos la semilla de números aleatorios para que siempre se produzca\n",
        "  # la misma secuencia de los mismos. Esto lo utilizamos sólo para que obtengas\n",
        "  # los resultados que el cuestionario de evaluación acepta como correctos.\n",
        "  # Por ello, NO DEBES realizar llamadas a np.random\n",
        "  #\n",
        "  # Una implementación real de esta función no tendría la siguiente instrucción.\n",
        "  np.random.seed(1)\n",
        "\n",
        "\n",
        "  # Obtener el número de atributos y ejemplos en el conjunto de entrenamiento\n",
        "  num_features = X.shape[0]\n",
        "  num_patterns = X.shape[1]\n",
        "\n",
        "\n",
        "  # Inicialización de los parámetros del modelo\n",
        "  init_factor = 0.01\n",
        "  W = np.random.uniform(low=-init_factor, high=init_factor, size=num_features).reshape((num_features, 1))\n",
        "  b = np.zeros((1,1))\n",
        "\n",
        "  # Variables donde se almacenarán las listas de valores de errores del modelo\n",
        "  loss_output = []\n",
        "  ratio_errors = []\n",
        "\n",
        "  # Esta constante es sólo para evitar errores al calcular el logaritmo de 0\n",
        "  epsilon = 1e-100\n",
        "\n",
        "\n",
        "  # BUCLE PRINCIPAL PARA EL ENTRENAMIENTO\n",
        "  for i in tqdm(range(num_iterations)):\n",
        "\n",
        "    # FORWARD PROPAGATION\n",
        "    # Está programado en la función anterior\n",
        "    Y_pred, Z, A = logistic_reg_prediction(X, W, b)\n",
        "\n",
        "    ############################\n",
        "    # TODO - Inicio\n",
        "    #\n",
        "    # Completa el siguiente código para el cálculo del error log.\n",
        "    # Se ha completado la primera parte de la expresión. Debes reemplazar\n",
        "    # los puntos suspensivos con el resto de la expresión.\n",
        "    ############################\n",
        "    c = np.mean(-Y * np.log(A + epsilon) - (1 - Y) * np.log(1 - A + epsilon))\n",
        "    ############################\n",
        "    # TODO - Fin\n",
        "    ############################\n",
        "    loss_output.append(c)\n",
        "\n",
        "\n",
        "    #CÁLCULO DE LOS ERRORES COMETIDOS\n",
        "    # Y_pred = logistic_reg_prediction(X, W, b)\n",
        "    ratio_errors.append(np.sum(np.abs(Y - Y_pred)) / Y.shape[1])\n",
        "\n",
        "    # Refrescar la gráfica de vez en cuando\n",
        "    if i % 99 == 0:\n",
        "      show_progress(loss_output, ratio_errors, num_iterations)\n",
        "\n",
        "\n",
        "    #BACKWARD PROPAGATION\n",
        "    ############################\n",
        "    # TODO - Inicio\n",
        "    #\n",
        "    # Completa el siguiente código, reemplazando los puntos suspensivos,\n",
        "    # con las operaciones para la propagación hacia atrás de la información de error.\n",
        "    # Revisa las fórmulas usadas en los vídeos, y los comentarios en las fé de errores.\n",
        "\n",
        "    # Aparte de eso, hemos añadido las instrucciones assert para verificar\n",
        "    # que las operaciones dan como resultado los vectores y matrices\n",
        "    # de dimensiones correctas\n",
        "    ############################\n",
        "    dZ = A - Y\n",
        "    assert dZ.shape == Z.shape, 'dZ.shape es ' + str(dZ.shape) + ' y debería ser ' + Z.shape\n",
        "    dW = np.matmul(X, dZ.T) / num_patterns\n",
        "    assert dW.shape == W.shape, 'dW.shape es ' + str(dW.shape) + ' y debería ser ' + W.shape\n",
        "    db = np.sum(dZ, axis=1, keepdims=True)/num_patterns\n",
        "    assert db.shape == (1,1), 'db.shape es ' + str(db.shape) + ' y debería ser (1,1)'\n",
        "    W = W - alpha * dW\n",
        "    assert W.shape, 'W.shape es ' + str(W.shape) + ' y debería ser (' + str(num_features) + ',1)'\n",
        "    b = b - alpha * db\n",
        "    assert b.shape == (1,1), 'b.shape es ' + str(b.shape) + ' y debería ser (1,1)'\n",
        "    ############################\n",
        "    # TODO - Fin\n",
        "    ############################\n",
        "\n",
        "  return W,b,loss_output,ratio_errors\n",
        "\n",
        "\n"
      ]
    },
    {
      "cell_type": "markdown",
      "metadata": {
        "id": "FUgN1VD4imBp"
      },
      "source": [
        "## Conjunto de datos de Infartos de Miocardio"
      ]
    },
    {
      "cell_type": "markdown",
      "metadata": {
        "id": "M-XmKkVu8xFq"
      },
      "source": [
        "### Lectura de datos\n",
        "\n",
        "La siguiente celda se encarga de obtener los datos del repositorio UCI (un repositorio con muchos conjuntos de datos de todo tipo).\n",
        "\n",
        "Vamos a trabajar con un conjunto de datos sobre casos de infartos de miocardio:\n",
        "\n",
        "**Myocardial infarction complications Data Set**\n",
        "(https://archive.ics.uci.edu/ml/datasets/Myocardial+infarction+complications)\n",
        "\n",
        "Por ahora, lo que nos interesa saber es que las características de los casos\n",
        "son de tipo numérico, son 123, y la característica objetivo toma ocho\n",
        "valores. Sin embargo, transformaremos el dataset para considerar el valor 0\n",
        "como \"sin complicaciones\", y el resto como \"con complicaciones\"."
      ]
    },
    {
      "cell_type": "code",
      "execution_count": 3,
      "metadata": {
        "id": "UtKogfZ08frm"
      },
      "outputs": [],
      "source": [
        "%%capture\n",
        "# La instrucción anterior omite mensajes que producen las intrucciones en esta\n",
        "# celda. No son necesarios si todo va bien, en particular, si la siguiente celda\n",
        "# se ejecuta sin problemas.\n",
        "\n",
        "# Obtener el fichero de datos del respositorio UCI\n",
        "!wget -c https://archive.ics.uci.edu/ml/machine-learning-databases/00579/MI.data\n",
        "\n",
        "# Cargar los datos\n",
        "data = np.genfromtxt('MI.data',delimiter=',')\n",
        "num_features = data.shape[1]-1\n",
        "num_patterns = data.shape[0]\n",
        "\n",
        "# Éstas son las características de los casos\n",
        "X = data[:,0:num_features].T\n",
        "\n",
        "# El conjunto de datos tiene algunos valores perdidos. Los vamos a reemplazar por -1\n",
        "np.nan_to_num(X, copy=False, nan=-1)\n",
        "\n",
        "# Y éstos son los valores del atributo objetivo\n",
        "# Fíjate en que realizamos una transformación para marcar si hubo o no\n",
        "# complicaciones ( > 0)\n",
        "Y = np.where(data[:, num_features].reshape((1,num_patterns)) > 0, 1, 0)"
      ]
    },
    {
      "cell_type": "code",
      "execution_count": 4,
      "metadata": {
        "id": "kWRvNVfi9vMT"
      },
      "outputs": [
        {
          "name": "stdout",
          "output_type": "stream",
          "text": [
            "El conjunto de datos tiene 1700 patrones con 123 atributos cada uno\n",
            "El atributo objetivo sólo presenta los valores [0 1]\n",
            "271(15.941%) con valor 1, y 1429(84.059%) con valor 0.\n",
            "\n",
            "Los valores de los 10 primeros atributos de los seis primeros patrones (columnas) del dataset son:\n",
            "[[ 1.  2.  3.  4.  5.  6.]\n",
            " [77. 55. 52. 68. 60. 64.]\n",
            " [ 1.  1.  1.  0.  1.  1.]\n",
            " [ 2.  1.  0.  0.  0.  0.]\n",
            " [ 1.  0.  0.  0.  0.  1.]\n",
            " [ 1.  0.  0.  0.  0.  2.]\n",
            " [ 2.  0.  2.  2.  2.  1.]\n",
            " [-1.  0. -1. -1. -1. -1.]\n",
            " [ 3.  0.  2.  2.  3.  0.]\n",
            " [ 0.  0.  0.  0.  0.  0.]]\n",
            "\n",
            "Los seis primeros valores del atributo objetivo son:\n",
            "[[0 0 0 0 0 0]]\n"
          ]
        }
      ],
      "source": [
        "# Imprimimos alguna información del dataset\n",
        "print('El conjunto de datos tiene', num_patterns,\n",
        "      'patrones con', num_features, 'atributos cada uno')\n",
        "print('El atributo objetivo sólo presenta los valores', np.unique(Y))\n",
        "print(np.sum(Y), '({:.3f}%)'.format(100*np.sum(Y)/Y.shape[1]), ' con valor 1, y ',\n",
        "      Y.shape[1]-np.sum(Y[:,:]), '({:.3f}%)'.format(100*(Y.shape[1]-np.sum(Y[:,:]))/Y.shape[1]),\n",
        "      ' con valor 0.', sep='')\n",
        "\n",
        "print('\\nLos valores de los 10 primeros atributos de los seis primeros '\\\n",
        "      'patrones (columnas) del dataset son:')\n",
        "print(X[0:10,0:6])\n",
        "\n",
        "print('\\nLos seis primeros valores del atributo objetivo son:')\n",
        "print(Y[:,0:6])"
      ]
    },
    {
      "cell_type": "markdown",
      "metadata": {
        "id": "7TJdTzezfNGP"
      },
      "source": [
        "### Entrenamiento en el dataset de infartos de miocardio\n",
        "\n",
        "A continuación aplicaremos el entrenamiento del modelo sobre el dataset de casos de infarto de miocardio.\n",
        "\n",
        "Para que tengas alguna orientación, tu modelo debería alcanzar alrededor del **10% de ratio de errores**. No mucho más. No mucho menos."
      ]
    },
    {
      "cell_type": "code",
      "execution_count": 5,
      "metadata": {
        "id": "qEkpahzTctp6"
      },
      "outputs": [
        {
          "data": {
            "image/png": "[encoded data removed]",
            "text/plain": [
              "<Figure size 432x288 with 2 Axes>"
            ]
          },
          "metadata": {},
          "output_type": "display_data"
        },
        {
          "data": {
            "text/plain": [
              "'Current Error log.: 0.23195 / Min Error log.: 0.23195'"
            ]
          },
          "metadata": {},
          "output_type": "display_data"
        },
        {
          "data": {
            "text/plain": [
              "'Current Ratio of errors: 10.05882% / Min Ratio of errors: 10.05882%'"
            ]
          },
          "metadata": {},
          "output_type": "display_data"
        },
        {
          "name": "stderr",
          "output_type": "stream",
          "text": [
            "100%|██████████| 10000/10000 [01:16<00:00, 130.36it/s]\n"
          ]
        },
        {
          "data": {
            "text/plain": [
              "<Figure size 432x288 with 0 Axes>"
            ]
          },
          "metadata": {},
          "output_type": "display_data"
        }
      ],
      "source": [
        "import matplotlib.pyplot as plt\n",
        "\n",
        "# Entrenamiento\n",
        "W,b,loss_output,num_errors = logistic_reg_training(X,Y, alpha = 0.00001, num_iterations = 10000)"
      ]
    },
    {
      "cell_type": "code",
      "execution_count": 6,
      "metadata": {
        "id": "kjnBWj6ShFiT"
      },
      "outputs": [
        {
          "name": "stdout",
          "output_type": "stream",
          "text": [
            "El número de errores es: 171.0(10.05882%)\n"
          ]
        }
      ],
      "source": [
        "# Comprueba que realmente realiza una predicción correcta\n",
        "Y_pred,_,_ = logistic_reg_prediction(X, W, b)\n",
        "print('El número de errores es: {}({:.5f}%)'.format(np.sum(np.abs(Y - Y_pred)),\n",
        "                                                    np.sum(np.abs(Y - Y_pred)) / Y.shape[1] * 100))"
      ]
    },
    {
      "cell_type": "markdown",
      "metadata": {
        "id": "JJiUkUc6ag77"
      },
      "source": [
        "## Conjunto de datos sobre dígitos escritos a mano\n",
        "\n",
        "En este caso, vamos a utilizar un conjunto de datos de dígitos escritos a mano. Por curiosidad, te sugiero que le eches un vistazo al fichero optdigits-orig.tra que se encuentra dentro del fichero en https://archive.ics.uci.edu/ml/machine-learning-databases/optdigits/optdigits-orig.tra.Z\n",
        "\n",
        "Aunque en dicho conjunto de datos se encuentran dígitos del 0 al 9, nosotros intentaremos entrenar un modelo de regresión logística para ver si puede detectar los dígitos que corresponden a números primos, es decir, el 2, el 3, el 5 y el 7.\n"
      ]
    },
    {
      "cell_type": "code",
      "execution_count": 2,
      "metadata": {
        "id": "qAyqbg4_d-3I"
      },
      "outputs": [
        {
          "data": {
            "image/png": "[encoded data removed]",
            "text/plain": [
              "<Figure size 432x288 with 2 Axes>"
            ]
          },
          "metadata": {},
          "output_type": "display_data"
        },
        {
          "data": {
            "text/plain": [
              "'Current Error log.: 0.07614 / Min Error log.: 0.07614'"
            ]
          },
          "metadata": {},
          "output_type": "display_data"
        },
        {
          "data": {
            "text/plain": [
              "'Current Ratio of errors: 2.53727% / Min Ratio of errors: 2.53727%'"
            ]
          },
          "metadata": {},
          "output_type": "display_data"
        },
        {
          "name": "stderr",
          "output_type": "stream",
          "text": [
            "100%|██████████| 10000/10000 [00:39<00:00, 250.78it/s]\n"
          ]
        },
        {
          "data": {
            "text/plain": [
              "<Figure size 432x288 with 0 Axes>"
            ]
          },
          "metadata": {},
          "output_type": "display_data"
        }
      ],
      "source": [
        "import matplotlib.pyplot as plt\n",
        "\n",
        "# Hand-written digits\n",
        "!wget -c https://archive.ics.uci.edu/ml/machine-learning-databases/optdigits/optdigits.tra &> /dev/null\n",
        "# https://archive.ics.uci.edu/ml/datasets/Optical+Recognition+of+Handwritten+Digits\n",
        "\n",
        "# Obtener los datos\n",
        "data = np.genfromtxt('optdigits.tra',delimiter=',')\n",
        "num_features = data.shape[1]-1\n",
        "num_patterns = data.shape[0]\n",
        "X_2 = data[:,0:num_features].T\n",
        "\n",
        "# Marcar los patrones que corresponden a números primos\n",
        "Y_2 = np.where((data[:,num_features] == 2) | (data[:,num_features] == 3) |\n",
        "               (data[:,num_features] == 5) |\n",
        "               (data[:,num_features] == 7), 1, 0).reshape((1,num_patterns))\n",
        "\n",
        "# Entrenamiento\n",
        "_,_,loss_output,num_errors_nums = logistic_reg_training(X_2,Y_2, alpha=0.001, num_iterations=10000)"
      ]
    },
    {
      "cell_type": "markdown",
      "metadata": {
        "id": "xJQllf4mc3HA"
      },
      "source": [
        "## Una última prueba con un conjunto de datos complicado\n",
        "\n",
        "En la siguiente celda se va a generar un conjunto de datos de forma aleatoria. Después de mostrarlo visualmente, evaluaremos la capacidad del modelo de Regresión Logística de aprender la clase de dicho conjunto de datos.\n",
        "\n",
        "A partir de la visualización del conjunto, observa que se podrián diferenciar 7 regiones del espacio, que tienen tamaños \"similares\", en las que 2 tienen un claro solapamiento y las otras 5, o no solapamiento o muy bajo. Por tanto, sería esperable que un humano consiguiese un porcentaje de acierto de alrededor de 5/7, es decir 70%. O lo que es lo mismo, un error alrededor del 30%."
      ]
    },
    {
      "cell_type": "code",
      "execution_count": null,
      "metadata": {
        "id": "Yiqix-4l9Mpp"
      },
      "outputs": [
        {
          "data": {
            "image/png": "[encoded data removed]",
            "text/plain": [
              "<Figure size 432x288 with 1 Axes>"
            ]
          },
          "metadata": {
            "needs_background": "light"
          },
          "output_type": "display_data"
        }
      ],
      "source": [
        "import numpy as np\n",
        "import matplotlib.pyplot as plt\n",
        "\n",
        "# Inicializamos la semilla de números aleatorios para que siempre se produzca\n",
        "# la misma secuencia de los mismos\n",
        "np.random.seed(1)\n",
        "\n",
        "num_features = 2\n",
        "num_patterns = 500\n",
        "\n",
        "X_3 = np.random.uniform(-1,1, num_features * num_patterns).reshape((num_features, num_patterns))\n",
        "X_3[1,:int(num_patterns / 2)] = (X_3[0,:int(num_patterns / 2)]+0.25)**2 + \\\n",
        "    np.random.randn(int(num_patterns / 2))/5 - 0.75\n",
        "X_3[0,int(num_patterns / 2):] -= 0.5\n",
        "X_3[1,int(num_patterns / 2):] = -(X_3[0,int(num_patterns / 2):]+0.5)**2 + \\\n",
        "    np.random.randn(int(num_patterns / 2))/5\n",
        "Y_3 = np.repeat([0,1], num_patterns / 2).reshape((1, num_patterns))\n",
        "\n",
        "plt.scatter(X_3[0,:], X_3[1,:], c=Y_3);"
      ]
    },
    {
      "cell_type": "code",
      "execution_count": null,
      "metadata": {
        "id": "310p4DXIdnDM"
      },
      "outputs": [
        {
          "data": {
            "image/png": "[encoded data removed]",
            "text/plain": [
              "<Figure size 432x288 with 2 Axes>"
            ]
          },
          "metadata": {},
          "output_type": "display_data"
        },
        {
          "data": {
            "text/plain": [
              "'Current Error log.: 0.62137 / Min Error log.: 0.62137'"
            ]
          },
          "metadata": {},
          "output_type": "display_data"
        },
        {
          "data": {
            "text/plain": [
              "'Current Ratio of errors: 36.00000% / Min Ratio of errors: 28.60000%'"
            ]
          },
          "metadata": {},
          "output_type": "display_data"
        },
        {
          "name": "stderr",
          "output_type": "stream",
          "text": [
            "100%|██████████| 30000/30000 [00:54<00:00, 555.50it/s]\n"
          ]
        },
        {
          "data": {
            "text/plain": [
              "<Figure size 432x288 with 0 Axes>"
            ]
          },
          "metadata": {},
          "output_type": "display_data"
        }
      ],
      "source": [
        "# Entrenamiento\n",
        "W,b,loss_output,num_errors_compl = logistic_reg_training(X_3,Y_3, alpha=0.001, num_iterations=30000)\n"
      ]
    },
    {
      "cell_type": "code",
      "execution_count": 2,
      "metadata": {},
      "outputs": [
        {
          "data": {
            "text/plain": [
              "array([0.])"
            ]
          },
          "execution_count": 2,
          "metadata": {},
          "output_type": "execute_result"
        }
      ],
      "source": [
        "np.round(protected_sigmoid(np.array([-709.0])), 3)"
      ]
    },
    {
      "cell_type": "code",
      "execution_count": 3,
      "metadata": {},
      "outputs": [
        {
          "data": {
            "text/plain": [
              "array([1.21678075e-308])"
            ]
          },
          "execution_count": 3,
          "metadata": {},
          "output_type": "execute_result"
        }
      ],
      "source": [
        "protected_sigmoid(np.array([-709.0]))"
      ]
    },
    {
      "cell_type": "code",
      "execution_count": 4,
      "metadata": {},
      "outputs": [
        {
          "data": {
            "text/plain": [
              "0.67"
            ]
          },
          "execution_count": 4,
          "metadata": {},
          "output_type": "execute_result"
        }
      ],
      "source": [
        "np.round(loss_output[0], 3)"
      ]
    },
    {
      "cell_type": "code",
      "execution_count": null,
      "metadata": {},
      "outputs": [],
      "source": []
    }
  ],
  "metadata": {
    "accelerator": "GPU",
    "colab": {
      "collapsed_sections": [],
      "name": "Copy of Regresión Logística Incompleta",
      "private_outputs": true,
      "provenance": []
    },
    "interpreter": {
      "hash": "e179be93ef73ea826d94e271bfbb0fe2117f41fb76ad72b15fc3ff88aef680c1"
    },
    "kernelspec": {
      "display_name": "Python 3.9.10 ('aprendizaje-profundo--sSqi39u-py3.9')",
      "language": "python",
      "name": "python3"
    },
    "language_info": {
      "codemirror_mode": {
        "name": "ipython",
        "version": 3
      },
      "file_extension": ".py",
      "mimetype": "text/x-python",
      "name": "python",
      "nbconvert_exporter": "python",
      "pygments_lexer": "ipython3",
      "version": "3.9.10"
    }
  },
  "nbformat": 4,
  "nbformat_minor": 0
}
