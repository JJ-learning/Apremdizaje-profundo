{
  "nbformat": 4,
  "nbformat_minor": 0,
  "metadata": {
    "colab": {
      "name": "MasterDL_CrearCNN.ipynb",
      "provenance": [],
      "collapsed_sections": []
    },
    "kernelspec": {
      "display_name": "Python 3",
      "name": "python3"
    },
    "language_info": {
      "name": "python"
    },
    "accelerator": "GPU"
  },
  "cells": [
    {
      "cell_type": "markdown",
      "metadata": {
        "id": "-sGEJLmWf6yl"
      },
      "source": [
        "# Vamos a crear nuestra primera CNN con Keras\n",
        "\n",
        "The goal of this notebook is to create our first CNN with the basic layers.\n",
        "\n",
        "We use the Keras module of the Tensorflow 2.x library.\n",
        "\n",
        "(c) Manuel Jesús Marín-Jiménez / Universidad de Córdoba\n",
        "\n"
      ]
    },
    {
      "cell_type": "code",
      "metadata": {
        "id": "EfiXB3FOgW3z"
      },
      "source": [
        "# Let's import the basic libraries\n",
        "\n",
        "# Tensorflow and Keras\n",
        "import tensorflow as tf\n",
        "from tensorflow import keras"
      ],
      "execution_count": null,
      "outputs": []
    },
    {
      "cell_type": "code",
      "metadata": {
        "id": "MoSxx7qSU2DS"
      },
      "source": [
        "# Vamos a definir una red neuronal convolucional según sus capas\n",
        "from tensorflow.keras import layers   \n",
        "\n",
        "input_shape = (28,28, 1)   # Our image size is 28x28 pix grayscale (1 channel)\n",
        "num_classes = 10           # We assume this number of categories\n",
        "\n",
        "# TODO: Let's create a sequential model (class Sequential)\n",
        "model = keras.Sequential([\n",
        "        keras.Input(shape=input_shape),\n",
        "        #TODO: Place your layers here; e.g. Conv2D, MaxPooling2D, ...\n",
        "        layers.Conv2D(16, 3, activation='relu', padding='same'),\n",
        "        layers.MaxPool2D(pool_size=(2,2)),\n",
        "        layers.Conv2D(32, 3, activation='relu', padding='same'),\n",
        "        layers.MaxPool2D(pool_size=(2,2)),\n",
        "        layers.Flatten(),\n",
        "        layers.Dense(128, activation='relu'),\n",
        "        layers.Dense(num_classes, activation=\"softmax\")\n",
        "], name=\"MyFirstCNN\")\n",
        "\n",
        " "
      ],
      "execution_count": null,
      "outputs": []
    },
    {
      "cell_type": "markdown",
      "metadata": {
        "id": "MOvQIfBQS9Ty"
      },
      "source": [
        "Analyse your model\n"
      ]
    },
    {
      "cell_type": "code",
      "metadata": {
        "id": "ZSxhUSGK93wM",
        "colab": {
          "base_uri": "https://localhost:8080/"
        },
        "outputId": "b659ba0a-03de-4a01-81fa-50f76a4a8e3b"
      },
      "source": [
        "# TODO: Use the summary() method to display the details of your model\n",
        "model.summary()\n",
        "\n",
        "# TODO: find in the summary the amount of trainable parameters of your model"
      ],
      "execution_count": null,
      "outputs": [
        {
          "output_type": "stream",
          "name": "stdout",
          "text": [
            "Model: \"MyFirstCNN\"\n",
            "_________________________________________________________________\n",
            " Layer (type)                Output Shape              Param #   \n",
            "=================================================================\n",
            " conv2d (Conv2D)             (None, 28, 28, 16)        160       \n",
            "                                                                 \n",
            " max_pooling2d (MaxPooling2D  (None, 14, 14, 16)       0         \n",
            " )                                                               \n",
            "                                                                 \n",
            " conv2d_1 (Conv2D)           (None, 14, 14, 32)        4640      \n",
            "                                                                 \n",
            " max_pooling2d_1 (MaxPooling  (None, 7, 7, 32)         0         \n",
            " 2D)                                                             \n",
            "                                                                 \n",
            " flatten (Flatten)           (None, 1568)              0         \n",
            "                                                                 \n",
            " dense (Dense)               (None, 128)               200832    \n",
            "                                                                 \n",
            " dense_1 (Dense)             (None, 10)                1290      \n",
            "                                                                 \n",
            "=================================================================\n",
            "Total params: 206,922\n",
            "Trainable params: 206,922\n",
            "Non-trainable params: 0\n",
            "_________________________________________________________________\n"
          ]
        }
      ]
    },
    {
      "cell_type": "markdown",
      "metadata": {
        "id": "jJEnLjqCTaQb"
      },
      "source": [
        "Then, we will compile and train our model.\n"
      ]
    },
    {
      "cell_type": "code",
      "source": [
        "# TODO: consulta el uso del método \"compile()\" y añade la propiedad 'metrics' después de haber visualizado el vídeo dedicado a \"Evaluación de redes\""
      ],
      "metadata": {
        "id": "GiL9FT_58Ihz"
      },
      "execution_count": null,
      "outputs": []
    }
  ]
}